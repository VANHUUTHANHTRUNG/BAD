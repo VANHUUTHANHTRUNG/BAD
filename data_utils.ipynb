{
 "cells": [
  {
   "cell_type": "code",
   "execution_count": 65,
   "outputs": [],
   "source": [
    "import os\n",
    "import numpy as np\n",
    "import librosa\n",
    "import pandas as pd\n",
    "import librosa.display\n",
    "import matplotlib.pyplot as plt\n",
    "\n",
    "PROJECT_PATH = os.getcwd()"
   ],
   "metadata": {
    "collapsed": false,
    "pycharm": {
     "name": "#%%\n"
    }
   }
  },
  {
   "cell_type": "markdown",
   "source": [
    "## Load label"
   ],
   "metadata": {
    "collapsed": false,
    "pycharm": {
     "name": "#%% md\n"
    }
   }
  },
  {
   "cell_type": "code",
   "execution_count": 66,
   "outputs": [
    {
     "name": "stdout",
     "output_type": "stream",
     "text": [
      "           0  2\n",
      "4615     100  1\n",
      "224   100180  1\n",
      "3819  100181  0\n",
      "2300  100250  1\n",
      "7595  100263  0\n",
      "...      ... ..\n",
      "2957   99450  0\n",
      "2403   99451  0\n",
      "4455   99452  1\n",
      "3073   99453  1\n",
      "236    99687  1\n",
      "\n",
      "[7690 rows x 2 columns]\n",
      "                            0  2\n",
      "2218  000e088a-69f7-4d7a-ba7b  0\n",
      "4127  0011e7f9-ec1e-4f3a-a70f  1\n",
      "2755  001277e4-24c2-4b8e-a6a8  1\n",
      "5704  001fceab-9866-48e8-a169  1\n",
      "6395  00268cc3-03e8-4e62-bee2  1\n",
      "...                       ... ..\n",
      "5420  ffeaa1c4-f880-47db-b58e  1\n",
      "3945  ffefe98b-47f7-4703-ae02  0\n",
      "2608  fff64865-595b-448c-a196  1\n",
      "5662  fff752f4-9c60-49af-8a87  0\n",
      "5892  fff9ad21-2052-48a7-87df  1\n",
      "\n",
      "[8000 rows x 2 columns]\n"
     ]
    }
   ],
   "source": [
    "def load_label(label_path):\n",
    "    label = pd.read_csv(label_path, delimiter=',',index_col=False,skiprows=1,header=None,dtype=str).iloc[:,[0,2]]\n",
    "    label = pd.DataFrame.sort_values(label,by=0)\n",
    "    return label\n",
    "LABEL_SET1_PATH = os.path.join(PROJECT_PATH,'ff1010bird_metadata_2018.csv')\n",
    "LABEL_SET2_PATH = os.path.join(PROJECT_PATH,'warblrb10k_public_metadata_2018.csv')\n",
    "\n",
    "label1 = load_label(LABEL_SET1_PATH)\n",
    "label2 = load_label(LABEL_SET2_PATH)\n",
    "print(label1)\n",
    "print(label2)\n",
    "np.save('y1.npy',label1)\n",
    "np.save('y2.npy',label2)"
   ],
   "metadata": {
    "collapsed": false,
    "pycharm": {
     "name": "#%%\n"
    }
   }
  },
  {
   "cell_type": "markdown",
   "source": [
    "## Load raw data"
   ],
   "metadata": {
    "collapsed": false
   }
  },
  {
   "cell_type": "code",
   "execution_count": 123,
   "outputs": [
    {
     "name": "stdout",
     "output_type": "stream",
     "text": [
      "Finish load image to np from C:\\Users\\vanhut1\\Anaconda3\\projects\\prml\\BAD\\ff1010bird_wav/wav\n",
      "Finish load image to np from C:\\Users\\vanhut1\\Anaconda3\\projects\\prml\\BAD\\warblrb10k_public_wav/wav\n"
     ]
    },
    {
     "ename": "ValueError",
     "evalue": "cannot reshape array of size 137763800 into shape (431,40)",
     "output_type": "error",
     "traceback": [
      "\u001B[1;31m---------------------------------------------------------------------------\u001B[0m",
      "\u001B[1;31mValueError\u001B[0m                                Traceback (most recent call last)",
      "\u001B[1;32m<ipython-input-123-8105fe849bde>\u001B[0m in \u001B[0;36m<module>\u001B[1;34m\u001B[0m\n\u001B[0;32m     26\u001B[0m \u001B[0mset1_X\u001B[0m \u001B[1;33m=\u001B[0m \u001B[0mload_wav_data\u001B[0m\u001B[1;33m(\u001B[0m\u001B[0mDATA_SET1_PATH\u001B[0m\u001B[1;33m)\u001B[0m\u001B[1;33m\u001B[0m\u001B[1;33m\u001B[0m\u001B[0m\n\u001B[0;32m     27\u001B[0m \u001B[0mnp\u001B[0m\u001B[1;33m.\u001B[0m\u001B[0msave\u001B[0m\u001B[1;33m(\u001B[0m\u001B[1;34m'X1.npy'\u001B[0m\u001B[1;33m,\u001B[0m\u001B[0mset1_X\u001B[0m\u001B[1;33m)\u001B[0m\u001B[1;33m\u001B[0m\u001B[1;33m\u001B[0m\u001B[0m\n\u001B[1;32m---> 28\u001B[1;33m \u001B[0mset2_X\u001B[0m \u001B[1;33m=\u001B[0m \u001B[0mload_wav_data\u001B[0m\u001B[1;33m(\u001B[0m\u001B[0mDATA_SET2_PATH\u001B[0m\u001B[1;33m)\u001B[0m\u001B[1;33m\u001B[0m\u001B[1;33m\u001B[0m\u001B[0m\n\u001B[0m\u001B[0;32m     29\u001B[0m \u001B[0mnp\u001B[0m\u001B[1;33m.\u001B[0m\u001B[0msave\u001B[0m\u001B[1;33m(\u001B[0m\u001B[1;34m'X2.npy'\u001B[0m\u001B[1;33m,\u001B[0m\u001B[0mset2_X\u001B[0m\u001B[1;33m)\u001B[0m\u001B[1;33m\u001B[0m\u001B[1;33m\u001B[0m\u001B[0m\n\u001B[0;32m     30\u001B[0m \u001B[1;31m# a*100 x b or 10xaxb\u001B[0m\u001B[1;33m\u001B[0m\u001B[1;33m\u001B[0m\u001B[1;33m\u001B[0m\u001B[0m\n",
      "\u001B[1;32m<ipython-input-123-8105fe849bde>\u001B[0m in \u001B[0;36mload_wav_data\u001B[1;34m(data_path)\u001B[0m\n\u001B[0;32m     21\u001B[0m         \u001B[0mX\u001B[0m \u001B[1;33m=\u001B[0m \u001B[0mnp\u001B[0m\u001B[1;33m.\u001B[0m\u001B[0mappend\u001B[0m\u001B[1;33m(\u001B[0m\u001B[0mX\u001B[0m\u001B[1;33m,\u001B[0m\u001B[0mx\u001B[0m\u001B[1;33m)\u001B[0m\u001B[1;33m\u001B[0m\u001B[1;33m\u001B[0m\u001B[0m\n\u001B[0;32m     22\u001B[0m     \u001B[0mprint\u001B[0m\u001B[1;33m(\u001B[0m\u001B[1;34m'Finish load image to np from'\u001B[0m\u001B[1;33m,\u001B[0m \u001B[0mdata_path\u001B[0m\u001B[1;33m)\u001B[0m\u001B[1;33m\u001B[0m\u001B[1;33m\u001B[0m\u001B[0m\n\u001B[1;32m---> 23\u001B[1;33m     \u001B[1;32mreturn\u001B[0m \u001B[0mnp\u001B[0m\u001B[1;33m.\u001B[0m\u001B[0mreshape\u001B[0m\u001B[1;33m(\u001B[0m\u001B[0mnp\u001B[0m\u001B[1;33m.\u001B[0m\u001B[0marray\u001B[0m\u001B[1;33m(\u001B[0m\u001B[0mX\u001B[0m\u001B[1;33m)\u001B[0m\u001B[1;33m,\u001B[0m\u001B[1;33m(\u001B[0m\u001B[1;33m-\u001B[0m\u001B[1;36m1\u001B[0m\u001B[1;33m,\u001B[0m\u001B[1;36m431\u001B[0m\u001B[1;33m,\u001B[0m\u001B[1;36m40\u001B[0m\u001B[1;33m)\u001B[0m\u001B[1;33m)\u001B[0m\u001B[1;33m\u001B[0m\u001B[1;33m\u001B[0m\u001B[0m\n\u001B[0m\u001B[0;32m     24\u001B[0m \u001B[1;33m\u001B[0m\u001B[0m\n\u001B[0;32m     25\u001B[0m \u001B[1;33m\u001B[0m\u001B[0m\n",
      "\u001B[1;32m<__array_function__ internals>\u001B[0m in \u001B[0;36mreshape\u001B[1;34m(*args, **kwargs)\u001B[0m\n",
      "\u001B[1;32m~\\Anaconda3\\envs\\intro_prml\\lib\\site-packages\\numpy\\core\\fromnumeric.py\u001B[0m in \u001B[0;36mreshape\u001B[1;34m(a, newshape, order)\u001B[0m\n\u001B[0;32m    297\u001B[0m            [5, 6]])\n\u001B[0;32m    298\u001B[0m     \"\"\"\n\u001B[1;32m--> 299\u001B[1;33m     \u001B[1;32mreturn\u001B[0m \u001B[0m_wrapfunc\u001B[0m\u001B[1;33m(\u001B[0m\u001B[0ma\u001B[0m\u001B[1;33m,\u001B[0m \u001B[1;34m'reshape'\u001B[0m\u001B[1;33m,\u001B[0m \u001B[0mnewshape\u001B[0m\u001B[1;33m,\u001B[0m \u001B[0morder\u001B[0m\u001B[1;33m=\u001B[0m\u001B[0morder\u001B[0m\u001B[1;33m)\u001B[0m\u001B[1;33m\u001B[0m\u001B[1;33m\u001B[0m\u001B[0m\n\u001B[0m\u001B[0;32m    300\u001B[0m \u001B[1;33m\u001B[0m\u001B[0m\n\u001B[0;32m    301\u001B[0m \u001B[1;33m\u001B[0m\u001B[0m\n",
      "\u001B[1;32m~\\Anaconda3\\envs\\intro_prml\\lib\\site-packages\\numpy\\core\\fromnumeric.py\u001B[0m in \u001B[0;36m_wrapfunc\u001B[1;34m(obj, method, *args, **kwds)\u001B[0m\n\u001B[0;32m     56\u001B[0m \u001B[1;33m\u001B[0m\u001B[0m\n\u001B[0;32m     57\u001B[0m     \u001B[1;32mtry\u001B[0m\u001B[1;33m:\u001B[0m\u001B[1;33m\u001B[0m\u001B[1;33m\u001B[0m\u001B[0m\n\u001B[1;32m---> 58\u001B[1;33m         \u001B[1;32mreturn\u001B[0m \u001B[0mbound\u001B[0m\u001B[1;33m(\u001B[0m\u001B[1;33m*\u001B[0m\u001B[0margs\u001B[0m\u001B[1;33m,\u001B[0m \u001B[1;33m**\u001B[0m\u001B[0mkwds\u001B[0m\u001B[1;33m)\u001B[0m\u001B[1;33m\u001B[0m\u001B[1;33m\u001B[0m\u001B[0m\n\u001B[0m\u001B[0;32m     59\u001B[0m     \u001B[1;32mexcept\u001B[0m \u001B[0mTypeError\u001B[0m\u001B[1;33m:\u001B[0m\u001B[1;33m\u001B[0m\u001B[1;33m\u001B[0m\u001B[0m\n\u001B[0;32m     60\u001B[0m         \u001B[1;31m# A TypeError occurs if the object does have such a method in its\u001B[0m\u001B[1;33m\u001B[0m\u001B[1;33m\u001B[0m\u001B[1;33m\u001B[0m\u001B[0m\n",
      "\u001B[1;31mValueError\u001B[0m: cannot reshape array of size 137763800 into shape (431,40)"
     ]
    }
   ],
   "source": [
    "DATA_SET1_PATH = os.path.join(PROJECT_PATH,'ff1010bird_wav/wav')\n",
    "DATA_SET2_PATH = os.path.join(PROJECT_PATH,'warblrb10k_public_wav/wav')\n",
    "def load_wav_data(data_path):\n",
    "    list_file = os.listdir(data_path)\n",
    "    list_name = sorted([str(name.split('.')[0]) for name in list_file])\n",
    "    X = []\n",
    "    for name in list_name:\n",
    "        file_path = os.path.join(data_path,name)\n",
    "        file_path = file_path + '.wav'\n",
    "        audio_data,sr =  librosa.load(file_path,duration=10)\n",
    "        # print('audio shape :',audio_data.shape)\n",
    "        # print('Sample rate :',sr)\n",
    "        kwargs_for_mel = {'n_mels': 40}\n",
    "        x = librosa.feature.melspectrogram(y=audio_data,\n",
    "                                           sr=44100,\n",
    "                                           n_fft=1024,\n",
    "                                           hop_length=512,\n",
    "                                           **kwargs_for_mel)\n",
    "        # print('Shape of x: ',x.shape)\n",
    "        x =np.array(x.T)\n",
    "        X = np.append(X,x)\n",
    "    print('Finish load image to np from', data_path)\n",
    "    return np.reshape(np.array(X),(-1,431,40))\n",
    "\n",
    "\n",
    "set1_X = load_wav_data(DATA_SET1_PATH)\n",
    "np.save('X1.npy',set1_X)\n",
    "set2_X = load_wav_data(DATA_SET2_PATH)\n",
    "np.save('X2.npy',set2_X)\n",
    "# a*100 x b or 10xaxb\n"
   ],
   "metadata": {
    "collapsed": false,
    "pycharm": {
     "name": "#%%\n"
    }
   }
  },
  {
   "cell_type": "markdown",
   "source": [
    "(## Obtain magnitude spectrum\n"
   ],
   "metadata": {
    "collapsed": false
   }
  },
  {
   "cell_type": "markdown",
   "source": [
    "## Extract 40 log mel-band energy features"
   ],
   "metadata": {
    "collapsed": false,
    "pycharm": {
     "name": "#%% md\n"
    }
   }
  },
  {
   "cell_type": "markdown",
   "source": [
    "### Quick look into data"
   ],
   "metadata": {
    "collapsed": false,
    "pycharm": {
     "name": "#%% md\n"
    }
   }
  },
  {
   "cell_type": "code",
   "execution_count": null,
   "outputs": [],
   "source": [
    "file_path1 = os.path.join(PROJECT_PATH,'ff1010bird_wav/wav/159999.wav')\n",
    "fs = 44100\n",
    "audio_data, sr1 = librosa.load(file_path1)\n",
    "kwargs_for_mel = {'n_mels': 40}\n",
    "x = librosa.feature.melspectrogram(\n",
    "    y=audio_data,\n",
    "    sr=44100,\n",
    "    n_fft=1024,\n",
    "    hop_length=512,\n",
    "    **kwargs_for_mel)\n",
    "x =x.T\n",
    "print(audio_data.shape)\n",
    "print(x.shape)\n",
    "data_dB = librosa.amplitude_to_db(x)\n",
    "librosa.display.specshow(data_dB,x_axis='time')\n",
    "plt.colorbar(format='%+2.0f dB')\n"
   ],
   "metadata": {
    "collapsed": false,
    "pycharm": {
     "name": "#%%\n"
    }
   }
  }
 ],
 "metadata": {
  "kernelspec": {
   "display_name": "Python 3",
   "language": "python",
   "name": "python3"
  },
  "language_info": {
   "codemirror_mode": {
    "name": "ipython",
    "version": 2
   },
   "file_extension": ".py",
   "mimetype": "text/x-python",
   "name": "python",
   "nbconvert_exporter": "python",
   "pygments_lexer": "ipython2",
   "version": "2.7.6"
  }
 },
 "nbformat": 4,
 "nbformat_minor": 0
}